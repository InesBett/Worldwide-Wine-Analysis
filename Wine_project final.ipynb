{
 "cells": [
  {
   "cell_type": "code",
   "execution_count": 1,
   "id": "7e54b2a1-99b5-451a-a70a-1357b268db2e",
   "metadata": {},
   "outputs": [],
   "source": [
    "import pandas as pd\n",
    "import seaborn as sns\n",
    "import matplotlib.pyplot as plt\n",
    "import warnings\n",
    "warnings.filterwarnings(\"ignore\")\n",
    "import numpy as np"
   ]
  },
  {
   "cell_type": "code",
   "execution_count": 2,
   "id": "2c5ba396-0d6a-4aef-b176-5bb7395ed2e7",
   "metadata": {},
   "outputs": [],
   "source": [
    "df_cleaned = pd.read_csv(\"wine_clean.csv\")"
   ]
  },
  {
   "cell_type": "code",
   "execution_count": 3,
   "id": "45c8b6c4-8fd4-4f58-89f8-f04fd56d11b0",
   "metadata": {},
   "outputs": [
    {
     "data": {
      "text/html": [
       "<div>\n",
       "<style scoped>\n",
       "    .dataframe tbody tr th:only-of-type {\n",
       "        vertical-align: middle;\n",
       "    }\n",
       "\n",
       "    .dataframe tbody tr th {\n",
       "        vertical-align: top;\n",
       "    }\n",
       "\n",
       "    .dataframe thead th {\n",
       "        text-align: right;\n",
       "    }\n",
       "</style>\n",
       "<table border=\"1\" class=\"dataframe\">\n",
       "  <thead>\n",
       "    <tr style=\"text-align: right;\">\n",
       "      <th></th>\n",
       "      <th>title</th>\n",
       "      <th>price</th>\n",
       "      <th>grape</th>\n",
       "      <th>closure_type</th>\n",
       "      <th>country</th>\n",
       "      <th>characteristics</th>\n",
       "      <th>type</th>\n",
       "      <th>alcohol_percentage</th>\n",
       "      <th>region</th>\n",
       "      <th>style</th>\n",
       "      <th>year</th>\n",
       "    </tr>\n",
       "  </thead>\n",
       "  <tbody>\n",
       "    <tr>\n",
       "      <th>0</th>\n",
       "      <td>Bread &amp; Butter 'Winemaker's Selection' Chardon...</td>\n",
       "      <td>15.99</td>\n",
       "      <td>Chardonnay</td>\n",
       "      <td>Natural Cork</td>\n",
       "      <td>USA</td>\n",
       "      <td>Vanilla, Almond, Coconut, Green Apple, Peach, ...</td>\n",
       "      <td>White</td>\n",
       "      <td>13.5</td>\n",
       "      <td>California</td>\n",
       "      <td>Rich &amp; Toasty</td>\n",
       "      <td>2021</td>\n",
       "    </tr>\n",
       "    <tr>\n",
       "      <th>1</th>\n",
       "      <td>Oyster Bay Sauvignon Blanc 2022, Marlborough</td>\n",
       "      <td>12.49</td>\n",
       "      <td>Sauvignon Blanc</td>\n",
       "      <td>Screwcap</td>\n",
       "      <td>New Zealand</td>\n",
       "      <td>Tropical Fruit, Gooseberry, Grapefruit, Grass,...</td>\n",
       "      <td>White</td>\n",
       "      <td>13.0</td>\n",
       "      <td>Marlborough</td>\n",
       "      <td>Crisp &amp; Zesty</td>\n",
       "      <td>2022</td>\n",
       "    </tr>\n",
       "    <tr>\n",
       "      <th>2</th>\n",
       "      <td>Louis Latour Mâcon-Lugny 2021/22</td>\n",
       "      <td>17.99</td>\n",
       "      <td>Chardonnay</td>\n",
       "      <td>Natural Cork</td>\n",
       "      <td>France</td>\n",
       "      <td>Peach, Apricot, Floral, Lemon</td>\n",
       "      <td>White</td>\n",
       "      <td>13.5</td>\n",
       "      <td>Burgundy</td>\n",
       "      <td>Ripe &amp; Rounded</td>\n",
       "      <td>2022</td>\n",
       "    </tr>\n",
       "    <tr>\n",
       "      <th>3</th>\n",
       "      <td>Bread &amp; Butter 'Winemaker's Selection' Pinot N...</td>\n",
       "      <td>15.99</td>\n",
       "      <td>Pinot Noir</td>\n",
       "      <td>Natural Cork</td>\n",
       "      <td>USA</td>\n",
       "      <td>Smoke, Black Cherry, Cedar, Raspberry, Red Fruit</td>\n",
       "      <td>Red</td>\n",
       "      <td>13.5</td>\n",
       "      <td>California</td>\n",
       "      <td>Smooth &amp; Mellow</td>\n",
       "      <td>2021</td>\n",
       "    </tr>\n",
       "    <tr>\n",
       "      <th>4</th>\n",
       "      <td>LB7 Red 2020/21, Lisbon</td>\n",
       "      <td>8.99</td>\n",
       "      <td>Castelão</td>\n",
       "      <td>Natural Cork</td>\n",
       "      <td>Portugal</td>\n",
       "      <td>Spice, Black Fruit, Black Plum, Blackberry</td>\n",
       "      <td>Red</td>\n",
       "      <td>13.5</td>\n",
       "      <td>Lisboa</td>\n",
       "      <td>Rich &amp; Juicy</td>\n",
       "      <td>2021</td>\n",
       "    </tr>\n",
       "    <tr>\n",
       "      <th>...</th>\n",
       "      <td>...</td>\n",
       "      <td>...</td>\n",
       "      <td>...</td>\n",
       "      <td>...</td>\n",
       "      <td>...</td>\n",
       "      <td>...</td>\n",
       "      <td>...</td>\n",
       "      <td>...</td>\n",
       "      <td>...</td>\n",
       "      <td>...</td>\n",
       "      <td>...</td>\n",
       "    </tr>\n",
       "    <tr>\n",
       "      <th>1007</th>\n",
       "      <td>Viñalba Malbec-Bonarda 2019/20/21, Mendoza</td>\n",
       "      <td>9.99</td>\n",
       "      <td>Malbec</td>\n",
       "      <td>Natural Cork</td>\n",
       "      <td>Argentina</td>\n",
       "      <td>Violet, Black Fruit, Floral, Red Fruit, Ripe F...</td>\n",
       "      <td>Red</td>\n",
       "      <td>14.0</td>\n",
       "      <td>Mendoza</td>\n",
       "      <td>Soft &amp; Fruity</td>\n",
       "      <td>2021</td>\n",
       "    </tr>\n",
       "    <tr>\n",
       "      <th>1008</th>\n",
       "      <td>Vouvray Sec 'Expresion de Silex' 2020/21, Loire</td>\n",
       "      <td>11.99</td>\n",
       "      <td>Chenin Blanc</td>\n",
       "      <td>Natural Cork</td>\n",
       "      <td>France</td>\n",
       "      <td>Quince, Green Apple, Lemon, Pear</td>\n",
       "      <td>White</td>\n",
       "      <td>12.5</td>\n",
       "      <td>Loire</td>\n",
       "      <td>Aromatic &amp; Floral</td>\n",
       "      <td>2021</td>\n",
       "    </tr>\n",
       "    <tr>\n",
       "      <th>1009</th>\n",
       "      <td>Waimea Estates Pinot Noir Rosé 2021, Nelson</td>\n",
       "      <td>13.99</td>\n",
       "      <td>Pinot Noir</td>\n",
       "      <td>Screwcap</td>\n",
       "      <td>New Zealand</td>\n",
       "      <td>Floral, Raspberry, Red Cherry, Strawberry</td>\n",
       "      <td>Rosé</td>\n",
       "      <td>13.0</td>\n",
       "      <td>Nelson</td>\n",
       "      <td>Delicate &amp; Dry</td>\n",
       "      <td>2021</td>\n",
       "    </tr>\n",
       "    <tr>\n",
       "      <th>1010</th>\n",
       "      <td>Wakefield 'Visionary' Cabernet Sauvignon 2010</td>\n",
       "      <td>85.00</td>\n",
       "      <td>Cabernet Sauvignon</td>\n",
       "      <td>Screwcap</td>\n",
       "      <td>Australia</td>\n",
       "      <td>Vanilla, Blackberry, Blackcurrant, Cedar, Euca...</td>\n",
       "      <td>Red</td>\n",
       "      <td>13.5</td>\n",
       "      <td>South Australia</td>\n",
       "      <td>Savoury &amp; Full Bodied</td>\n",
       "      <td>2010</td>\n",
       "    </tr>\n",
       "    <tr>\n",
       "      <th>1011</th>\n",
       "      <td>Yalumba 'The Menzies' Cabernet Sauvignon 2015/...</td>\n",
       "      <td>37.99</td>\n",
       "      <td>Cabernet Sauvignon</td>\n",
       "      <td>Natural Cork</td>\n",
       "      <td>Australia</td>\n",
       "      <td>Black Plum, Blackcurrant, Vanilla</td>\n",
       "      <td>Red</td>\n",
       "      <td>14.5</td>\n",
       "      <td>South Australia</td>\n",
       "      <td>Savoury &amp; Full Bodied</td>\n",
       "      <td>2016</td>\n",
       "    </tr>\n",
       "  </tbody>\n",
       "</table>\n",
       "<p>1012 rows × 11 columns</p>\n",
       "</div>"
      ],
      "text/plain": [
       "                                                  title  price  \\\n",
       "0     Bread & Butter 'Winemaker's Selection' Chardon...  15.99   \n",
       "1          Oyster Bay Sauvignon Blanc 2022, Marlborough  12.49   \n",
       "2                      Louis Latour Mâcon-Lugny 2021/22  17.99   \n",
       "3     Bread & Butter 'Winemaker's Selection' Pinot N...  15.99   \n",
       "4                               LB7 Red 2020/21, Lisbon   8.99   \n",
       "...                                                 ...    ...   \n",
       "1007         Viñalba Malbec-Bonarda 2019/20/21, Mendoza   9.99   \n",
       "1008    Vouvray Sec 'Expresion de Silex' 2020/21, Loire  11.99   \n",
       "1009        Waimea Estates Pinot Noir Rosé 2021, Nelson  13.99   \n",
       "1010      Wakefield 'Visionary' Cabernet Sauvignon 2010  85.00   \n",
       "1011  Yalumba 'The Menzies' Cabernet Sauvignon 2015/...  37.99   \n",
       "\n",
       "                   grape  closure_type      country  \\\n",
       "0             Chardonnay  Natural Cork          USA   \n",
       "1        Sauvignon Blanc      Screwcap  New Zealand   \n",
       "2             Chardonnay  Natural Cork       France   \n",
       "3             Pinot Noir  Natural Cork          USA   \n",
       "4              Castelão   Natural Cork     Portugal   \n",
       "...                  ...           ...          ...   \n",
       "1007              Malbec  Natural Cork    Argentina   \n",
       "1008        Chenin Blanc  Natural Cork       France   \n",
       "1009          Pinot Noir      Screwcap  New Zealand   \n",
       "1010  Cabernet Sauvignon      Screwcap    Australia   \n",
       "1011  Cabernet Sauvignon  Natural Cork    Australia   \n",
       "\n",
       "                                        characteristics   type  \\\n",
       "0     Vanilla, Almond, Coconut, Green Apple, Peach, ...  White   \n",
       "1     Tropical Fruit, Gooseberry, Grapefruit, Grass,...  White   \n",
       "2                         Peach, Apricot, Floral, Lemon  White   \n",
       "3      Smoke, Black Cherry, Cedar, Raspberry, Red Fruit    Red   \n",
       "4            Spice, Black Fruit, Black Plum, Blackberry    Red   \n",
       "...                                                 ...    ...   \n",
       "1007  Violet, Black Fruit, Floral, Red Fruit, Ripe F...    Red   \n",
       "1008                   Quince, Green Apple, Lemon, Pear  White   \n",
       "1009          Floral, Raspberry, Red Cherry, Strawberry   Rosé   \n",
       "1010  Vanilla, Blackberry, Blackcurrant, Cedar, Euca...    Red   \n",
       "1011                  Black Plum, Blackcurrant, Vanilla    Red   \n",
       "\n",
       "      alcohol_percentage           region                  style  year  \n",
       "0                   13.5       California          Rich & Toasty  2021  \n",
       "1                   13.0      Marlborough          Crisp & Zesty  2022  \n",
       "2                   13.5         Burgundy         Ripe & Rounded  2022  \n",
       "3                   13.5       California        Smooth & Mellow  2021  \n",
       "4                   13.5           Lisboa           Rich & Juicy  2021  \n",
       "...                  ...              ...                    ...   ...  \n",
       "1007                14.0          Mendoza          Soft & Fruity  2021  \n",
       "1008                12.5            Loire      Aromatic & Floral  2021  \n",
       "1009                13.0           Nelson         Delicate & Dry  2021  \n",
       "1010                13.5  South Australia  Savoury & Full Bodied  2010  \n",
       "1011                14.5  South Australia  Savoury & Full Bodied  2016  \n",
       "\n",
       "[1012 rows x 11 columns]"
      ]
     },
     "execution_count": 3,
     "metadata": {},
     "output_type": "execute_result"
    }
   ],
   "source": [
    "df_cleaned"
   ]
  },
  {
   "cell_type": "markdown",
   "id": "37f433db-f73b-461c-8a54-f68f8002e5f1",
   "metadata": {},
   "source": [
    "<h1 style=\"color: #800020;\"> EDA| Exploratory Data Analysis </h1>"
   ]
  },
  {
   "cell_type": "markdown",
   "id": "340c5305-d50b-44ce-b3af-f746d384e318",
   "metadata": {},
   "source": [
    "<h3 style=\"color: #800020;\"> Exploring numerical and categorical variable </h3>"
   ]
  },
  {
   "cell_type": "code",
   "execution_count": 4,
   "id": "1d5bad0b-1263-4e2e-be0a-730c27d9224c",
   "metadata": {},
   "outputs": [],
   "source": [
    "categorical= df_cleaned.select_dtypes(exclude=\"number\")"
   ]
  },
  {
   "cell_type": "code",
   "execution_count": 5,
   "id": "ebda7861-bdac-4b80-88a8-0658324c61fd",
   "metadata": {},
   "outputs": [],
   "source": [
    "numerical= df_cleaned.select_dtypes(include=\"number\")"
   ]
  },
  {
   "cell_type": "markdown",
   "id": "1d08910e-5f5e-4245-931c-c7462a93abed",
   "metadata": {},
   "source": [
    "<h3 style=\"color: #800020;\"> Univariate analysis </h3>"
   ]
  },
  {
   "cell_type": "markdown",
   "id": "235d7942-8bf9-47c4-bc76-ebfad5b0e27f",
   "metadata": {},
   "source": [
    "<h4 style=\"color: #800020;\"> Categorical Variables</h4>"
   ]
  },
  {
   "cell_type": "markdown",
   "id": "f5f4b065-7f6b-490e-a086-2bfa83b64cce",
   "metadata": {},
   "source": [
    "I will start by doing univarite analyses for better understanding of each column"
   ]
  },
  {
   "cell_type": "code",
   "execution_count": 6,
   "id": "22553c9b-6fb6-46fa-a714-b68c6f64113b",
   "metadata": {},
   "outputs": [],
   "source": [
    "frequency_table_country= df_cleaned.country.value_counts()\n",
    "frequency_table_country=frequency_table_country.reset_index()"
   ]
  },
  {
   "cell_type": "code",
   "execution_count": 7,
   "id": "0115b82f-490d-4140-a4b9-1691ddc47732",
   "metadata": {},
   "outputs": [],
   "source": [
    "proportion_table_country = df_cleaned.country.value_counts(normalize=True).round(2)\n",
    "proportion_table_country= proportion_table_country.reset_index()"
   ]
  },
  {
   "cell_type": "code",
   "execution_count": 8,
   "id": "bd6be745-357f-4368-9f36-692b1c7d9302",
   "metadata": {},
   "outputs": [
    {
     "data": {
      "text/html": [
       "<div>\n",
       "<style scoped>\n",
       "    .dataframe tbody tr th:only-of-type {\n",
       "        vertical-align: middle;\n",
       "    }\n",
       "\n",
       "    .dataframe tbody tr th {\n",
       "        vertical-align: top;\n",
       "    }\n",
       "\n",
       "    .dataframe thead th {\n",
       "        text-align: right;\n",
       "    }\n",
       "</style>\n",
       "<table border=\"1\" class=\"dataframe\">\n",
       "  <thead>\n",
       "    <tr style=\"text-align: right;\">\n",
       "      <th></th>\n",
       "      <th>country</th>\n",
       "      <th>count</th>\n",
       "      <th>country_prop</th>\n",
       "      <th>proportion</th>\n",
       "    </tr>\n",
       "  </thead>\n",
       "  <tbody>\n",
       "    <tr>\n",
       "      <th>0</th>\n",
       "      <td>France</td>\n",
       "      <td>373</td>\n",
       "      <td>France</td>\n",
       "      <td>0.37</td>\n",
       "    </tr>\n",
       "    <tr>\n",
       "      <th>1</th>\n",
       "      <td>Italy</td>\n",
       "      <td>122</td>\n",
       "      <td>Italy</td>\n",
       "      <td>0.12</td>\n",
       "    </tr>\n",
       "    <tr>\n",
       "      <th>2</th>\n",
       "      <td>New Zealand</td>\n",
       "      <td>88</td>\n",
       "      <td>New Zealand</td>\n",
       "      <td>0.09</td>\n",
       "    </tr>\n",
       "    <tr>\n",
       "      <th>3</th>\n",
       "      <td>Australia</td>\n",
       "      <td>87</td>\n",
       "      <td>Australia</td>\n",
       "      <td>0.09</td>\n",
       "    </tr>\n",
       "    <tr>\n",
       "      <th>4</th>\n",
       "      <td>Spain</td>\n",
       "      <td>76</td>\n",
       "      <td>Spain</td>\n",
       "      <td>0.08</td>\n",
       "    </tr>\n",
       "    <tr>\n",
       "      <th>5</th>\n",
       "      <td>South Africa</td>\n",
       "      <td>70</td>\n",
       "      <td>South Africa</td>\n",
       "      <td>0.07</td>\n",
       "    </tr>\n",
       "    <tr>\n",
       "      <th>6</th>\n",
       "      <td>USA</td>\n",
       "      <td>45</td>\n",
       "      <td>USA</td>\n",
       "      <td>0.04</td>\n",
       "    </tr>\n",
       "    <tr>\n",
       "      <th>7</th>\n",
       "      <td>Chile</td>\n",
       "      <td>45</td>\n",
       "      <td>Chile</td>\n",
       "      <td>0.04</td>\n",
       "    </tr>\n",
       "    <tr>\n",
       "      <th>8</th>\n",
       "      <td>Argentina</td>\n",
       "      <td>38</td>\n",
       "      <td>Argentina</td>\n",
       "      <td>0.04</td>\n",
       "    </tr>\n",
       "    <tr>\n",
       "      <th>9</th>\n",
       "      <td>Portugal</td>\n",
       "      <td>28</td>\n",
       "      <td>Portugal</td>\n",
       "      <td>0.03</td>\n",
       "    </tr>\n",
       "    <tr>\n",
       "      <th>10</th>\n",
       "      <td>Austria</td>\n",
       "      <td>10</td>\n",
       "      <td>Austria</td>\n",
       "      <td>0.01</td>\n",
       "    </tr>\n",
       "    <tr>\n",
       "      <th>11</th>\n",
       "      <td>Germany</td>\n",
       "      <td>9</td>\n",
       "      <td>Germany</td>\n",
       "      <td>0.01</td>\n",
       "    </tr>\n",
       "    <tr>\n",
       "      <th>12</th>\n",
       "      <td>England</td>\n",
       "      <td>8</td>\n",
       "      <td>England</td>\n",
       "      <td>0.01</td>\n",
       "    </tr>\n",
       "    <tr>\n",
       "      <th>13</th>\n",
       "      <td>Greece</td>\n",
       "      <td>5</td>\n",
       "      <td>Greece</td>\n",
       "      <td>0.00</td>\n",
       "    </tr>\n",
       "    <tr>\n",
       "      <th>14</th>\n",
       "      <td>Lebanon</td>\n",
       "      <td>2</td>\n",
       "      <td>Lebanon</td>\n",
       "      <td>0.00</td>\n",
       "    </tr>\n",
       "    <tr>\n",
       "      <th>15</th>\n",
       "      <td>Romania</td>\n",
       "      <td>2</td>\n",
       "      <td>Romania</td>\n",
       "      <td>0.00</td>\n",
       "    </tr>\n",
       "    <tr>\n",
       "      <th>16</th>\n",
       "      <td>Georgia</td>\n",
       "      <td>2</td>\n",
       "      <td>Georgia</td>\n",
       "      <td>0.00</td>\n",
       "    </tr>\n",
       "    <tr>\n",
       "      <th>17</th>\n",
       "      <td>Moldova</td>\n",
       "      <td>1</td>\n",
       "      <td>Moldova</td>\n",
       "      <td>0.00</td>\n",
       "    </tr>\n",
       "    <tr>\n",
       "      <th>18</th>\n",
       "      <td>Bulgaria</td>\n",
       "      <td>1</td>\n",
       "      <td>Bulgaria</td>\n",
       "      <td>0.00</td>\n",
       "    </tr>\n",
       "  </tbody>\n",
       "</table>\n",
       "</div>"
      ],
      "text/plain": [
       "         country  count  country_prop  proportion\n",
       "0         France    373        France        0.37\n",
       "1          Italy    122         Italy        0.12\n",
       "2    New Zealand     88   New Zealand        0.09\n",
       "3      Australia     87     Australia        0.09\n",
       "4          Spain     76         Spain        0.08\n",
       "5   South Africa     70  South Africa        0.07\n",
       "6            USA     45           USA        0.04\n",
       "7          Chile     45         Chile        0.04\n",
       "8      Argentina     38     Argentina        0.04\n",
       "9       Portugal     28      Portugal        0.03\n",
       "10       Austria     10       Austria        0.01\n",
       "11       Germany      9       Germany        0.01\n",
       "12       England      8       England        0.01\n",
       "13        Greece      5        Greece        0.00\n",
       "14       Lebanon      2       Lebanon        0.00\n",
       "15       Romania      2       Romania        0.00\n",
       "16       Georgia      2       Georgia        0.00\n",
       "17       Moldova      1       Moldova        0.00\n",
       "18      Bulgaria      1      Bulgaria        0.00"
      ]
     },
     "execution_count": 8,
     "metadata": {},
     "output_type": "execute_result"
    }
   ],
   "source": [
    "country_table= pd.concat([frequency_table_country,proportion_table_country], axis=1)\n",
    "country_table.columns = ['country', 'count', 'country_prop', 'proportion']\n",
    "country_table"
   ]
  },
  {
   "cell_type": "markdown",
   "id": "f4e9a84a-71b6-4b5d-b23e-ac808635b89d",
   "metadata": {},
   "source": [
    "Upon analysing the frequency and proportion tables, I can conclude that the majority of the wines present in this data set are from France and Italy. New Zealand, Australia and Spain close the top 5."
   ]
  },
  {
   "cell_type": "code",
   "execution_count": 9,
   "id": "f90f5a48-333d-4b35-a416-055fb4dd22d2",
   "metadata": {},
   "outputs": [],
   "source": [
    "frequency_table_region= df_cleaned.region.value_counts()\n",
    "frequency_table_region=frequency_table_region.reset_index()"
   ]
  },
  {
   "cell_type": "code",
   "execution_count": 10,
   "id": "dd34d9ec-8a9c-488a-beeb-1804cb2c5fa8",
   "metadata": {},
   "outputs": [],
   "source": [
    "proportion_table_region = df_cleaned.region.value_counts(normalize=True).round(2)\n",
    "proportion_table_region= proportion_table_region.reset_index()"
   ]
  },
  {
   "cell_type": "code",
   "execution_count": 11,
   "id": "43991c8c-efff-4558-8ad3-0524cc46fdc3",
   "metadata": {},
   "outputs": [
    {
     "data": {
      "text/html": [
       "<div>\n",
       "<style scoped>\n",
       "    .dataframe tbody tr th:only-of-type {\n",
       "        vertical-align: middle;\n",
       "    }\n",
       "\n",
       "    .dataframe tbody tr th {\n",
       "        vertical-align: top;\n",
       "    }\n",
       "\n",
       "    .dataframe thead th {\n",
       "        text-align: right;\n",
       "    }\n",
       "</style>\n",
       "<table border=\"1\" class=\"dataframe\">\n",
       "  <thead>\n",
       "    <tr style=\"text-align: right;\">\n",
       "      <th></th>\n",
       "      <th>region</th>\n",
       "      <th>count</th>\n",
       "      <th>region_prop</th>\n",
       "      <th>proportion</th>\n",
       "    </tr>\n",
       "  </thead>\n",
       "  <tbody>\n",
       "    <tr>\n",
       "      <th>0</th>\n",
       "      <td>Burgundy</td>\n",
       "      <td>97</td>\n",
       "      <td>Burgundy</td>\n",
       "      <td>0.10</td>\n",
       "    </tr>\n",
       "    <tr>\n",
       "      <th>1</th>\n",
       "      <td>Marlborough</td>\n",
       "      <td>62</td>\n",
       "      <td>Marlborough</td>\n",
       "      <td>0.06</td>\n",
       "    </tr>\n",
       "    <tr>\n",
       "      <th>2</th>\n",
       "      <td>Bordeaux</td>\n",
       "      <td>56</td>\n",
       "      <td>Bordeaux</td>\n",
       "      <td>0.06</td>\n",
       "    </tr>\n",
       "    <tr>\n",
       "      <th>3</th>\n",
       "      <td>South Australia</td>\n",
       "      <td>56</td>\n",
       "      <td>South Australia</td>\n",
       "      <td>0.06</td>\n",
       "    </tr>\n",
       "    <tr>\n",
       "      <th>4</th>\n",
       "      <td>Loire</td>\n",
       "      <td>50</td>\n",
       "      <td>Loire</td>\n",
       "      <td>0.05</td>\n",
       "    </tr>\n",
       "    <tr>\n",
       "      <th>...</th>\n",
       "      <td>...</td>\n",
       "      <td>...</td>\n",
       "      <td>...</td>\n",
       "      <td>...</td>\n",
       "    </tr>\n",
       "    <tr>\n",
       "      <th>83</th>\n",
       "      <td>Dao</td>\n",
       "      <td>1</td>\n",
       "      <td>Dao</td>\n",
       "      <td>0.00</td>\n",
       "    </tr>\n",
       "    <tr>\n",
       "      <th>84</th>\n",
       "      <td>Constantia</td>\n",
       "      <td>1</td>\n",
       "      <td>Constantia</td>\n",
       "      <td>0.00</td>\n",
       "    </tr>\n",
       "    <tr>\n",
       "      <th>85</th>\n",
       "      <td>Trentino Alto Adige</td>\n",
       "      <td>1</td>\n",
       "      <td>Trentino Alto Adige</td>\n",
       "      <td>0.00</td>\n",
       "    </tr>\n",
       "    <tr>\n",
       "      <th>86</th>\n",
       "      <td>Waipara</td>\n",
       "      <td>1</td>\n",
       "      <td>Waipara</td>\n",
       "      <td>0.00</td>\n",
       "    </tr>\n",
       "    <tr>\n",
       "      <th>87</th>\n",
       "      <td>Basilicata</td>\n",
       "      <td>1</td>\n",
       "      <td>Basilicata</td>\n",
       "      <td>0.00</td>\n",
       "    </tr>\n",
       "  </tbody>\n",
       "</table>\n",
       "<p>88 rows × 4 columns</p>\n",
       "</div>"
      ],
      "text/plain": [
       "                 region  count          region_prop  proportion\n",
       "0              Burgundy     97             Burgundy        0.10\n",
       "1           Marlborough     62          Marlborough        0.06\n",
       "2              Bordeaux     56             Bordeaux        0.06\n",
       "3       South Australia     56      South Australia        0.06\n",
       "4                 Loire     50                Loire        0.05\n",
       "..                  ...    ...                  ...         ...\n",
       "83                  Dao      1                  Dao        0.00\n",
       "84           Constantia      1           Constantia        0.00\n",
       "85  Trentino Alto Adige      1  Trentino Alto Adige        0.00\n",
       "86              Waipara      1              Waipara        0.00\n",
       "87           Basilicata      1           Basilicata        0.00\n",
       "\n",
       "[88 rows x 4 columns]"
      ]
     },
     "execution_count": 11,
     "metadata": {},
     "output_type": "execute_result"
    }
   ],
   "source": [
    "region_table= pd.concat([frequency_table_region,proportion_table_region], axis=1)\n",
    "region_table.columns = ['region', 'count', 'region_prop', 'proportion']\n",
    "region_table"
   ]
  },
  {
   "cell_type": "markdown",
   "id": "8986709d-997b-4cc3-9484-0e2291825871",
   "metadata": {},
   "source": [
    "Upon analysing the frequency and proportion tables, I can conclude that the majority of regions where the wines are produced are Burgundy in France going along with the analysis we did prior on the countries, followed by Marlborough in New Zealand even though Italy comes in second place in the countries table. Bordeaux, South Australia and Loire close the top 5 regions."
   ]
  },
  {
   "cell_type": "code",
   "execution_count": 12,
   "id": "5f8041c1-536f-4902-a8e3-a88308d13ed3",
   "metadata": {},
   "outputs": [],
   "source": [
    "frequency_table_grape= df_cleaned.grape.value_counts()\n",
    "frequency_table_grape=frequency_table_grape.reset_index()"
   ]
  },
  {
   "cell_type": "code",
   "execution_count": 13,
   "id": "2be9120f-de72-46bd-9fa3-dede5964ff4c",
   "metadata": {},
   "outputs": [],
   "source": [
    "proportion_table_grape = df_cleaned.grape.value_counts(normalize=True).round(2)\n",
    "proportion_table_grape=proportion_table_grape.reset_index()"
   ]
  },
  {
   "cell_type": "code",
   "execution_count": 14,
   "id": "d0d745d0-9901-4a20-ad9f-780ad002c3b4",
   "metadata": {},
   "outputs": [
    {
     "data": {
      "text/html": [
       "<div>\n",
       "<style scoped>\n",
       "    .dataframe tbody tr th:only-of-type {\n",
       "        vertical-align: middle;\n",
       "    }\n",
       "\n",
       "    .dataframe tbody tr th {\n",
       "        vertical-align: top;\n",
       "    }\n",
       "\n",
       "    .dataframe thead th {\n",
       "        text-align: right;\n",
       "    }\n",
       "</style>\n",
       "<table border=\"1\" class=\"dataframe\">\n",
       "  <thead>\n",
       "    <tr style=\"text-align: right;\">\n",
       "      <th></th>\n",
       "      <th>grape</th>\n",
       "      <th>count</th>\n",
       "      <th>grape_prop</th>\n",
       "      <th>proportion</th>\n",
       "    </tr>\n",
       "  </thead>\n",
       "  <tbody>\n",
       "    <tr>\n",
       "      <th>0</th>\n",
       "      <td>Chardonnay</td>\n",
       "      <td>142</td>\n",
       "      <td>Chardonnay</td>\n",
       "      <td>0.14</td>\n",
       "    </tr>\n",
       "    <tr>\n",
       "      <th>1</th>\n",
       "      <td>Sauvignon Blanc</td>\n",
       "      <td>95</td>\n",
       "      <td>Sauvignon Blanc</td>\n",
       "      <td>0.09</td>\n",
       "    </tr>\n",
       "    <tr>\n",
       "      <th>2</th>\n",
       "      <td>Cabernet Sauvignon</td>\n",
       "      <td>82</td>\n",
       "      <td>Cabernet Sauvignon</td>\n",
       "      <td>0.08</td>\n",
       "    </tr>\n",
       "    <tr>\n",
       "      <th>3</th>\n",
       "      <td>Pinot Noir</td>\n",
       "      <td>79</td>\n",
       "      <td>Pinot Noir</td>\n",
       "      <td>0.08</td>\n",
       "    </tr>\n",
       "    <tr>\n",
       "      <th>4</th>\n",
       "      <td>Grenache</td>\n",
       "      <td>77</td>\n",
       "      <td>Grenache</td>\n",
       "      <td>0.08</td>\n",
       "    </tr>\n",
       "    <tr>\n",
       "      <th>...</th>\n",
       "      <td>...</td>\n",
       "      <td>...</td>\n",
       "      <td>...</td>\n",
       "      <td>...</td>\n",
       "    </tr>\n",
       "    <tr>\n",
       "      <th>94</th>\n",
       "      <td>Pinot Blanc</td>\n",
       "      <td>1</td>\n",
       "      <td>Pinot Blanc</td>\n",
       "      <td>0.00</td>\n",
       "    </tr>\n",
       "    <tr>\n",
       "      <th>95</th>\n",
       "      <td>Rkatsiteli</td>\n",
       "      <td>1</td>\n",
       "      <td>Rkatsiteli</td>\n",
       "      <td>0.00</td>\n",
       "    </tr>\n",
       "    <tr>\n",
       "      <th>96</th>\n",
       "      <td>Syrah-Shiraz</td>\n",
       "      <td>1</td>\n",
       "      <td>Syrah-Shiraz</td>\n",
       "      <td>0.00</td>\n",
       "    </tr>\n",
       "    <tr>\n",
       "      <th>97</th>\n",
       "      <td>Sauvignon Gris</td>\n",
       "      <td>1</td>\n",
       "      <td>Sauvignon Gris</td>\n",
       "      <td>0.00</td>\n",
       "    </tr>\n",
       "    <tr>\n",
       "      <th>98</th>\n",
       "      <td>Aglianico</td>\n",
       "      <td>1</td>\n",
       "      <td>Aglianico</td>\n",
       "      <td>0.00</td>\n",
       "    </tr>\n",
       "  </tbody>\n",
       "</table>\n",
       "<p>99 rows × 4 columns</p>\n",
       "</div>"
      ],
      "text/plain": [
       "                 grape  count          grape_prop  proportion\n",
       "0           Chardonnay    142          Chardonnay        0.14\n",
       "1      Sauvignon Blanc     95     Sauvignon Blanc        0.09\n",
       "2   Cabernet Sauvignon     82  Cabernet Sauvignon        0.08\n",
       "3           Pinot Noir     79          Pinot Noir        0.08\n",
       "4             Grenache     77            Grenache        0.08\n",
       "..                 ...    ...                 ...         ...\n",
       "94         Pinot Blanc      1         Pinot Blanc        0.00\n",
       "95          Rkatsiteli      1          Rkatsiteli        0.00\n",
       "96        Syrah-Shiraz      1        Syrah-Shiraz        0.00\n",
       "97      Sauvignon Gris      1      Sauvignon Gris        0.00\n",
       "98           Aglianico      1           Aglianico        0.00\n",
       "\n",
       "[99 rows x 4 columns]"
      ]
     },
     "execution_count": 14,
     "metadata": {},
     "output_type": "execute_result"
    }
   ],
   "source": [
    "grape_table= pd.concat([frequency_table_grape,proportion_table_grape], axis=1)\n",
    "grape_table.columns = ['grape', 'count', 'grape_prop', 'proportion']\n",
    "grape_table"
   ]
  },
  {
   "cell_type": "markdown",
   "id": "b563757a-1a8c-4289-8e83-416b271b7c3b",
   "metadata": {},
   "source": [
    "Upon analysing the frequency and proportion tables, I can conclude that the most used grapes are Chardonnay, Sauvignon Blanc and Cabernet Sauvignon from the Burgundy region which again goes along with the analysis I did before, ending the top 5 with Pinot Grigio and Grenache."
   ]
  },
  {
   "cell_type": "code",
   "execution_count": 15,
   "id": "204d087e-45ec-4630-a93c-c8f467b4a7f5",
   "metadata": {},
   "outputs": [],
   "source": [
    "frequency_table_closure= df_cleaned.closure_type.value_counts()\n",
    "frequency_table_closure=frequency_table_closure.reset_index()"
   ]
  },
  {
   "cell_type": "code",
   "execution_count": 16,
   "id": "de34e7fb-4b7c-4078-985e-dcb4133c1f0f",
   "metadata": {},
   "outputs": [],
   "source": [
    "proportion_table_closure = df_cleaned.closure_type.value_counts(normalize=True).round(2)\n",
    "proportion_table_closure=proportion_table_closure.reset_index()"
   ]
  },
  {
   "cell_type": "code",
   "execution_count": 17,
   "id": "ce5852cd-310a-48f8-9180-a6f005aa21e8",
   "metadata": {},
   "outputs": [
    {
     "data": {
      "text/html": [
       "<div>\n",
       "<style scoped>\n",
       "    .dataframe tbody tr th:only-of-type {\n",
       "        vertical-align: middle;\n",
       "    }\n",
       "\n",
       "    .dataframe tbody tr th {\n",
       "        vertical-align: top;\n",
       "    }\n",
       "\n",
       "    .dataframe thead th {\n",
       "        text-align: right;\n",
       "    }\n",
       "</style>\n",
       "<table border=\"1\" class=\"dataframe\">\n",
       "  <thead>\n",
       "    <tr style=\"text-align: right;\">\n",
       "      <th></th>\n",
       "      <th>closure</th>\n",
       "      <th>count</th>\n",
       "      <th>closure_prop</th>\n",
       "      <th>proportion</th>\n",
       "    </tr>\n",
       "  </thead>\n",
       "  <tbody>\n",
       "    <tr>\n",
       "      <th>0</th>\n",
       "      <td>Natural Cork</td>\n",
       "      <td>607</td>\n",
       "      <td>Natural Cork</td>\n",
       "      <td>0.60</td>\n",
       "    </tr>\n",
       "    <tr>\n",
       "      <th>1</th>\n",
       "      <td>Screwcap</td>\n",
       "      <td>377</td>\n",
       "      <td>Screwcap</td>\n",
       "      <td>0.37</td>\n",
       "    </tr>\n",
       "    <tr>\n",
       "      <th>2</th>\n",
       "      <td>Synthetic Cork</td>\n",
       "      <td>21</td>\n",
       "      <td>Synthetic Cork</td>\n",
       "      <td>0.02</td>\n",
       "    </tr>\n",
       "    <tr>\n",
       "      <th>3</th>\n",
       "      <td>Vinolok</td>\n",
       "      <td>7</td>\n",
       "      <td>Vinolok</td>\n",
       "      <td>0.01</td>\n",
       "    </tr>\n",
       "  </tbody>\n",
       "</table>\n",
       "</div>"
      ],
      "text/plain": [
       "          closure  count    closure_prop  proportion\n",
       "0    Natural Cork    607    Natural Cork        0.60\n",
       "1        Screwcap    377        Screwcap        0.37\n",
       "2  Synthetic Cork     21  Synthetic Cork        0.02\n",
       "3         Vinolok      7         Vinolok        0.01"
      ]
     },
     "execution_count": 17,
     "metadata": {},
     "output_type": "execute_result"
    }
   ],
   "source": [
    "closure_table= pd.concat([frequency_table_closure,proportion_table_closure], axis=1)\n",
    "closure_table.columns = ['closure', 'count', 'closure_prop', 'proportion']\n",
    "closure_table"
   ]
  },
  {
   "cell_type": "markdown",
   "id": "565a32d3-b8b9-4f8f-a7fc-6bc506f54f20",
   "metadata": {},
   "source": [
    "Both proportion and frequency table shows that Natural Cork (607) is the most common closure type, indicating a preference for tradition in winemaking. Screwcaps (377) are also widely used, reflecting modern trends in convenience and practicality. Synthetic Cork (21) and Vinolok (7) are niche options, likely catering to specific styles or experimental approaches. Exploring correlations with price, region, or wine style could reveal deeper insights into these patterns"
   ]
  },
  {
   "cell_type": "code",
   "execution_count": 18,
   "id": "ffe7eee2-eb14-441e-bcfe-3d8bb5a8ad49",
   "metadata": {},
   "outputs": [],
   "source": [
    "frequency_table_type= df_cleaned.type.value_counts()\n",
    "frequency_table_type=frequency_table_type.reset_index()"
   ]
  },
  {
   "cell_type": "code",
   "execution_count": 19,
   "id": "ba3eae65-1a64-40e2-87a3-49fb42b2d8e6",
   "metadata": {},
   "outputs": [],
   "source": [
    "proportion_table_type = df_cleaned.type.value_counts(normalize=True).round(2)\n",
    "proportion_table_type=proportion_table_type.reset_index()"
   ]
  },
  {
   "cell_type": "code",
   "execution_count": 20,
   "id": "4f3161e8-e4cc-4bd5-9bd7-fe6cb9fb90bf",
   "metadata": {},
   "outputs": [
    {
     "data": {
      "text/html": [
       "<div>\n",
       "<style scoped>\n",
       "    .dataframe tbody tr th:only-of-type {\n",
       "        vertical-align: middle;\n",
       "    }\n",
       "\n",
       "    .dataframe tbody tr th {\n",
       "        vertical-align: top;\n",
       "    }\n",
       "\n",
       "    .dataframe thead th {\n",
       "        text-align: right;\n",
       "    }\n",
       "</style>\n",
       "<table border=\"1\" class=\"dataframe\">\n",
       "  <thead>\n",
       "    <tr style=\"text-align: right;\">\n",
       "      <th></th>\n",
       "      <th>wine_type</th>\n",
       "      <th>count</th>\n",
       "      <th>wine_type_prop</th>\n",
       "      <th>proportion</th>\n",
       "    </tr>\n",
       "  </thead>\n",
       "  <tbody>\n",
       "    <tr>\n",
       "      <th>0</th>\n",
       "      <td>Red</td>\n",
       "      <td>521</td>\n",
       "      <td>Red</td>\n",
       "      <td>0.51</td>\n",
       "    </tr>\n",
       "    <tr>\n",
       "      <th>1</th>\n",
       "      <td>White</td>\n",
       "      <td>409</td>\n",
       "      <td>White</td>\n",
       "      <td>0.40</td>\n",
       "    </tr>\n",
       "    <tr>\n",
       "      <th>2</th>\n",
       "      <td>Rosé</td>\n",
       "      <td>80</td>\n",
       "      <td>Rosé</td>\n",
       "      <td>0.08</td>\n",
       "    </tr>\n",
       "    <tr>\n",
       "      <th>3</th>\n",
       "      <td>Orange</td>\n",
       "      <td>2</td>\n",
       "      <td>Orange</td>\n",
       "      <td>0.00</td>\n",
       "    </tr>\n",
       "  </tbody>\n",
       "</table>\n",
       "</div>"
      ],
      "text/plain": [
       "  wine_type  count wine_type_prop  proportion\n",
       "0       Red    521            Red        0.51\n",
       "1     White    409          White        0.40\n",
       "2      Rosé     80           Rosé        0.08\n",
       "3    Orange      2         Orange        0.00"
      ]
     },
     "execution_count": 20,
     "metadata": {},
     "output_type": "execute_result"
    }
   ],
   "source": [
    "type_table= pd.concat([frequency_table_type,proportion_table_type], axis=1)\n",
    "type_table.columns = ['wine_type', 'count', 'wine_type_prop', 'proportion']\n",
    "type_table"
   ]
  },
  {
   "cell_type": "markdown",
   "id": "27e71dab-e0c1-41b6-8e01-52b74a885413",
   "metadata": {},
   "source": [
    "Lastly upon analysing the wine types present in the data set, I can conclude that Red wines dominate the dataset (51%) which confirms the past information I got since France is one of the biggest contributers of Red and White wines, followed by White wines (40%), Rosé wines (8%), and Orange wines (0%) with only 2 wines."
   ]
  },
  {
   "cell_type": "markdown",
   "id": "ab148e96-a366-4141-87da-ef79ad8ae2f1",
   "metadata": {},
   "source": [
    "<h3 style=\"color: #800020;\"> Visualizations </h3>"
   ]
  },
  {
   "cell_type": "code",
   "execution_count": 21,
   "id": "95910276-613e-4415-ab67-e378ccf3b306",
   "metadata": {},
   "outputs": [],
   "source": [
    "country_table_5= country_table.head(5)"
   ]
  },
  {
   "cell_type": "code",
   "execution_count": 22,
   "id": "cb5704f0-707d-4119-a041-bee258ea3db6",
   "metadata": {},
   "outputs": [],
   "source": [
    "region_table_5= region_table.head(5)"
   ]
  },
  {
   "cell_type": "code",
   "execution_count": 23,
   "id": "186d5966-94a7-449b-b68b-37aaa78ebd43",
   "metadata": {},
   "outputs": [
    {
     "data": {
      "image/png": "[encoded data removed]",
      "text/plain": [
       "<Figure size 640x480 with 1 Axes>"
      ]
     },
     "metadata": {},
     "output_type": "display_data"
    }
   ],
   "source": [
    "sns.barplot(x=\"region\", y=\"count\", data= region_table_5, palette= \"Reds\")\n",
    "plt.title(\"Wine Count by Regions| Top5\")\n",
    "plt.xticks(rotation=90)\n",
    "plt.xlabel(\"Country\")\n",
    "plt.ylabel(\"Count\")\n",
    "plt.show()"
   ]
  },
  {
   "cell_type": "code",
   "execution_count": 24,
   "id": "680b3a82-264e-44ee-89fb-94f76a9534a3",
   "metadata": {},
   "outputs": [
    {
     "data": {
      "image/png": "[encoded data removed]",
      "text/plain": [
       "<Figure size 640x480 with 1 Axes>"
      ]
     },
     "metadata": {},
     "output_type": "display_data"
    }
   ],
   "source": [
    "country_table_5[\"count\"].plot.pie(labels=country_table_5[\"country\"],autopct='%1.2f%%' ,startangle=45, colors=sns.color_palette('Set3'))\n",
    "plt.show()"
   ]
  },
  {
   "cell_type": "markdown",
   "id": "27a43b66-c1c0-4095-a05f-92b20597c2fc",
   "metadata": {},
   "source": [
    "Upon analyzing the pie chart I can conclude that France leads by a wide margin, showing its dominance in this dataset and possibly the global wine industry.\n",
    "The remaining countries contribute relatively smaller but still notable proportions, indicating a diversified representation of wines from across the globe.\n",
    "New World wine regions (New Zealand and Australia) are well-represented, highlighting their rising popularity.\n",
    "\n",
    "By looking at the bar plot of the top 5 regions I can afirm that France maintains a dominant position, both in the country and region categories, with Burgundy contributing significantly to its high-value share.\n",
    "New Zealand and Australia show the rise of New World wines, with Marlborough and South Australia both contributing.\n",
    "This combined analysis of countries and regions highlights the diversity of wine offerings across the globe and underscores the prominence of both Old and New World wine regions in shaping the global market."
   ]
  },
  {
   "cell_type": "markdown",
   "id": "5bee7396-c8bb-4685-86e7-5cffc6df8fc1",
   "metadata": {},
   "source": [
    "<h4 style=\"color: #800020;\"> Numerical Variables</h4>"
   ]
  },
  {
   "cell_type": "code",
   "execution_count": 25,
   "id": "9df5d359-5bc6-465a-936a-db857642006d",
   "metadata": {},
   "outputs": [
    {
     "data": {
      "text/html": [
       "<div>\n",
       "<style scoped>\n",
       "    .dataframe tbody tr th:only-of-type {\n",
       "        vertical-align: middle;\n",
       "    }\n",
       "\n",
       "    .dataframe tbody tr th {\n",
       "        vertical-align: top;\n",
       "    }\n",
       "\n",
       "    .dataframe thead th {\n",
       "        text-align: right;\n",
       "    }\n",
       "</style>\n",
       "<table border=\"1\" class=\"dataframe\">\n",
       "  <thead>\n",
       "    <tr style=\"text-align: right;\">\n",
       "      <th></th>\n",
       "      <th>price</th>\n",
       "      <th>alcohol_percentage</th>\n",
       "      <th>year</th>\n",
       "    </tr>\n",
       "  </thead>\n",
       "  <tbody>\n",
       "    <tr>\n",
       "      <th>count</th>\n",
       "      <td>1012.00000</td>\n",
       "      <td>1012.000000</td>\n",
       "      <td>1012.000000</td>\n",
       "    </tr>\n",
       "    <tr>\n",
       "      <th>mean</th>\n",
       "      <td>23.13501</td>\n",
       "      <td>13.470652</td>\n",
       "      <td>2020.166008</td>\n",
       "    </tr>\n",
       "    <tr>\n",
       "      <th>std</th>\n",
       "      <td>20.72089</td>\n",
       "      <td>1.150675</td>\n",
       "      <td>2.297832</td>\n",
       "    </tr>\n",
       "    <tr>\n",
       "      <th>min</th>\n",
       "      <td>4.99000</td>\n",
       "      <td>0.500000</td>\n",
       "      <td>1999.000000</td>\n",
       "    </tr>\n",
       "    <tr>\n",
       "      <th>25%</th>\n",
       "      <td>11.99000</td>\n",
       "      <td>13.000000</td>\n",
       "      <td>2019.000000</td>\n",
       "    </tr>\n",
       "    <tr>\n",
       "      <th>50%</th>\n",
       "      <td>15.99000</td>\n",
       "      <td>13.500000</td>\n",
       "      <td>2021.000000</td>\n",
       "    </tr>\n",
       "    <tr>\n",
       "      <th>75%</th>\n",
       "      <td>25.99000</td>\n",
       "      <td>14.000000</td>\n",
       "      <td>2022.000000</td>\n",
       "    </tr>\n",
       "    <tr>\n",
       "      <th>max</th>\n",
       "      <td>270.00000</td>\n",
       "      <td>16.000000</td>\n",
       "      <td>2023.000000</td>\n",
       "    </tr>\n",
       "  </tbody>\n",
       "</table>\n",
       "</div>"
      ],
      "text/plain": [
       "            price  alcohol_percentage         year\n",
       "count  1012.00000         1012.000000  1012.000000\n",
       "mean     23.13501           13.470652  2020.166008\n",
       "std      20.72089            1.150675     2.297832\n",
       "min       4.99000            0.500000  1999.000000\n",
       "25%      11.99000           13.000000  2019.000000\n",
       "50%      15.99000           13.500000  2021.000000\n",
       "75%      25.99000           14.000000  2022.000000\n",
       "max     270.00000           16.000000  2023.000000"
      ]
     },
     "execution_count": 25,
     "metadata": {},
     "output_type": "execute_result"
    }
   ],
   "source": [
    "df_cleaned.describe()"
   ]
  },
  {
   "cell_type": "markdown",
   "id": "2b9d9c73-8f33-440d-be5a-b357fea08599",
   "metadata": {},
   "source": [
    "- Insights I draw from the describe()\n",
    "\n",
    "Starting by the price, the average price of the wines in the dataset is 23.14 dollars, which suggests that the wines in this collection are generally mid-range, though there are a few quite expensive wines.The minimum price is 4.99 dollars, indicating the presence of affordable wines, while the maximum price is 270.00 dollars, representing premium wines. Regarding the standard deviation of 20.72 dollars , this wide variation in price suggests the dataset includes a big range of wine types, from budget friendly options to more luxury wines.\n",
    "\n",
    "Passing to Alcohol Percentage, the average is 13.47%, which is typical for many wine styles, especially reds and whites. The minimum alcohol percentage is extremely low at 0.5%, which could represent light wines, while the maximum alcohol percentage is 16%, common in stronger wines.The standard deviation of 1.15% shows that most wines in this dataset fall within a very small range of alcohol content meaning that there is no much variation of percentages."
   ]
  },
  {
   "cell_type": "markdown",
   "id": "399ee516-3cbf-4ac8-a206-0ed30203a207",
   "metadata": {},
   "source": [
    "<h4 style=\"color: #800020;\"> Shape of distribution - Skewness </h4>"
   ]
  },
  {
   "cell_type": "code",
   "execution_count": 26,
   "id": "d3b1fc69-3eac-4479-a8a0-0ba8cdf26476",
   "metadata": {},
   "outputs": [
    {
     "data": {
      "text/plain": [
       "4.59"
      ]
     },
     "execution_count": 26,
     "metadata": {},
     "output_type": "execute_result"
    }
   ],
   "source": [
    "df_cleaned[\"price\"].skew().round(2)"
   ]
  },
  {
   "cell_type": "code",
   "execution_count": 27,
   "id": "015f9e3d-11fa-446a-a967-70749850d998",
   "metadata": {},
   "outputs": [
    {
     "data": {
      "text/plain": [
       "-4.69"
      ]
     },
     "execution_count": 27,
     "metadata": {},
     "output_type": "execute_result"
    }
   ],
   "source": [
    "df_cleaned[\"alcohol_percentage\"].skew().round(2)"
   ]
  },
  {
   "cell_type": "markdown",
   "id": "d37d6439-4ea0-4a8b-a544-9aba71c7d757",
   "metadata": {},
   "source": [
    "The price distribution is highly positively skewed, meaning that while most wines are priced in a mid-range, there are a few very expensive outliers that push the average price higher.\n",
    "\n",
    "The alcohol percentage distribution is negatively skewed, indicating that most wines have higher alcohol content, but there are a few wines with very low alcohol content that skew the data to the left."
   ]
  },
  {
   "cell_type": "markdown",
   "id": "9b42807c-1f59-4c2d-9f4e-965ac2e84ce2",
   "metadata": {},
   "source": [
    "<h4 style=\"color: #800020;\"> Shape of distribution - Kurtosis </h4>"
   ]
  },
  {
   "cell_type": "code",
   "execution_count": 28,
   "id": "42eaf6e7-b26b-4052-83c3-fdfbf703a2bf",
   "metadata": {},
   "outputs": [
    {
     "data": {
      "text/plain": [
       "34.89"
      ]
     },
     "execution_count": 28,
     "metadata": {},
     "output_type": "execute_result"
    }
   ],
   "source": [
    "df_cleaned[\"price\"].kurtosis().round(2)"
   ]
  },
  {
   "cell_type": "code",
   "execution_count": 29,
   "id": "69fc4574-7c0c-4785-9250-3bdc44b465a3",
   "metadata": {},
   "outputs": [
    {
     "data": {
      "text/plain": [
       "47.86"
      ]
     },
     "execution_count": 29,
     "metadata": {},
     "output_type": "execute_result"
    }
   ],
   "source": [
    "df_cleaned[\"alcohol_percentage\"].kurtosis().round(2)"
   ]
  },
  {
   "cell_type": "markdown",
   "id": "405995f0-6b45-4179-9a11-fbe4b3fbaa2d",
   "metadata": {},
   "source": [
    "The price distribution has a kurtosis of 34.89 which indicates a heavy concentration around the mean, but there are extreme outliers, particularly with very high-priced wines.\n",
    "\n",
    "A kurtosis of 47.86 indicates extremely high kurtosis for alcohol percentage as well, which means the distribution is highly leptokurtic with a sharp peak and heavy tails. The dataset likely has a large cluster of wines with similar alcohol percentage but also contains extreme outliers, in this case wines with very low alcohol content as seen before."
   ]
  },
  {
   "cell_type": "code",
   "execution_count": 30,
   "id": "155c0a32-57a8-4a4c-a5ac-4fa9fa1b377a",
   "metadata": {},
   "outputs": [
    {
     "data": {
      "image/png": "[encoded data removed]",
      "text/plain": [
       "<Figure size 2000x1600 with 25 Axes>"
      ]
     },
     "metadata": {},
     "output_type": "display_data"
    }
   ],
   "source": [
    "color = '#800020'\n",
    "\n",
    "nrows, ncols = 5, 5\n",
    "\n",
    "fig, axes = plt.subplots(nrows=nrows, ncols=ncols, figsize=(20, 16))\n",
    "\n",
    "axes = axes.flatten()\n",
    "\n",
    "for i, ax in enumerate(axes):\n",
    "    if i >= len(numerical.columns):\n",
    "        ax.set_visible(False)  # hide unesed plots\n",
    "        continue\n",
    "    ax.hist(numerical.iloc[:, i], bins=30, color=color, edgecolor='black')\n",
    "    ax.set_title(numerical.columns[i])\n",
    "\n",
    "plt.tight_layout()\n",
    "plt.show()"
   ]
  },
  {
   "cell_type": "markdown",
   "id": "6e82b0ee-6a50-457e-bf6b-c5af8325855d",
   "metadata": {},
   "source": [
    "By looking at this histograms I can draw some conclusions such as:\n",
    "\n",
    "Regarding price, the distribution is positively skewed (right-skewed), with most wine prices concentrated below 50.\n",
    "A few wines are priced higher, exceeding 200, which appear as outliers.\n",
    "\n",
    "The alcohol percentage distribution is approximately normal, centered around 12.5-14%. Very few wines have alcohol percentages below 10% or above 15%, which are possible outliers.\n",
    "\n",
    "Lastly, most wines in the dataset are recent, with a sharp increase in wine production or recording after 2015.Older wines are rare, representing potential outliers."
   ]
  },
  {
   "cell_type": "code",
   "execution_count": 31,
   "id": "6b31172d-33e5-41bf-baca-ff04b00f90b7",
   "metadata": {},
   "outputs": [
    {
     "data": {
      "image/png": "[encoded data removed]",
      "text/plain": [
       "<Figure size 2000x1600 with 25 Axes>"
      ]
     },
     "metadata": {},
     "output_type": "display_data"
    }
   ],
   "source": [
    "color = '#800020'\n",
    "\n",
    "nrows, ncols = 5, 5\n",
    "\n",
    "fig, axes = plt.subplots(nrows=nrows, ncols=ncols, figsize=(20, 16))\n",
    "\n",
    "axes = axes.flatten()\n",
    "\n",
    "for i, ax in enumerate(axes):\n",
    "    if i >= len(numerical.columns):\n",
    "        ax.set_visible(False)\n",
    "        continue\n",
    "    ax.boxplot(numerical.iloc[:, i].dropna(), vert=False, patch_artist=True,\n",
    "               boxprops=dict(facecolor=color, color='black'),\n",
    "               medianprops=dict(color='yellow'), whiskerprops=dict(color='black'),\n",
    "               capprops=dict(color='black'), flierprops=dict(marker='o', color='red', markersize=5))\n",
    "    ax.set_title(numerical.columns[i], fontsize=10)\n",
    "    ax.tick_params(axis='x', labelsize=8)\n",
    "\n",
    "plt.tight_layout()\n",
    "plt.show()"
   ]
  },
  {
   "cell_type": "markdown",
   "id": "8cfd823c-87f2-4e51-962c-7e7355ebf98d",
   "metadata": {},
   "source": [
    "By analysing teh boxplots I can conclude:\n",
    "\n",
    "The price boxplot confirms the positive skew, with a tightly packed interquartile range (IQR) below 50. There are several outliers above the upper whisker, extending well beyond 250. Meaning that there are some premium wines pushing the mean of the price up.\n",
    "\n",
    "Nest, the majority of alcohol percentages lie within the typical range of 12-15%. A few outliers exist below 10% and above 15%, likely representing non-standard wines.\n",
    "\n",
    "Lastly, most data points are concentrated post 2015, with a relatively small IQR. Older wines are outliers, and there is a general trend toward more recent data."
   ]
  },
  {
   "cell_type": "markdown",
   "id": "bf1b38cd-b7b6-4a71-bcd4-1bca54cee7bb",
   "metadata": {},
   "source": [
    "<h3 style=\"color: #800020;\"> Bivariate analysis </h3>"
   ]
  },
  {
   "cell_type": "markdown",
   "id": "8fb8926d-cfd8-44c6-a23d-b1cd633f3743",
   "metadata": {},
   "source": [
    "The main question of this analysis is if the wine type and the country where the wine is produced have a strong correlation. The main question is , \"does the country where the wine is produced has direct influence on the wine type?\""
   ]
  },
  {
   "cell_type": "code",
   "execution_count": 32,
   "id": "09c81508-c427-4a18-b8ca-fa51ee74dfc4",
   "metadata": {},
   "outputs": [
    {
     "data": {
      "text/html": [
       "<div>\n",
       "<style scoped>\n",
       "    .dataframe tbody tr th:only-of-type {\n",
       "        vertical-align: middle;\n",
       "    }\n",
       "\n",
       "    .dataframe tbody tr th {\n",
       "        vertical-align: top;\n",
       "    }\n",
       "\n",
       "    .dataframe thead th {\n",
       "        text-align: right;\n",
       "    }\n",
       "</style>\n",
       "<table border=\"1\" class=\"dataframe\">\n",
       "  <thead>\n",
       "    <tr style=\"text-align: right;\">\n",
       "      <th>country</th>\n",
       "      <th>Argentina</th>\n",
       "      <th>Australia</th>\n",
       "      <th>Austria</th>\n",
       "      <th>Bulgaria</th>\n",
       "      <th>Chile</th>\n",
       "      <th>England</th>\n",
       "      <th>France</th>\n",
       "      <th>Georgia</th>\n",
       "      <th>Germany</th>\n",
       "      <th>Greece</th>\n",
       "      <th>Italy</th>\n",
       "      <th>Lebanon</th>\n",
       "      <th>Moldova</th>\n",
       "      <th>New Zealand</th>\n",
       "      <th>Portugal</th>\n",
       "      <th>Romania</th>\n",
       "      <th>South Africa</th>\n",
       "      <th>Spain</th>\n",
       "      <th>USA</th>\n",
       "    </tr>\n",
       "    <tr>\n",
       "      <th>type</th>\n",
       "      <th></th>\n",
       "      <th></th>\n",
       "      <th></th>\n",
       "      <th></th>\n",
       "      <th></th>\n",
       "      <th></th>\n",
       "      <th></th>\n",
       "      <th></th>\n",
       "      <th></th>\n",
       "      <th></th>\n",
       "      <th></th>\n",
       "      <th></th>\n",
       "      <th></th>\n",
       "      <th></th>\n",
       "      <th></th>\n",
       "      <th></th>\n",
       "      <th></th>\n",
       "      <th></th>\n",
       "      <th></th>\n",
       "    </tr>\n",
       "  </thead>\n",
       "  <tbody>\n",
       "    <tr>\n",
       "      <th>Orange</th>\n",
       "      <td>0</td>\n",
       "      <td>0</td>\n",
       "      <td>1</td>\n",
       "      <td>0</td>\n",
       "      <td>1</td>\n",
       "      <td>0</td>\n",
       "      <td>0</td>\n",
       "      <td>0</td>\n",
       "      <td>0</td>\n",
       "      <td>0</td>\n",
       "      <td>0</td>\n",
       "      <td>0</td>\n",
       "      <td>0</td>\n",
       "      <td>0</td>\n",
       "      <td>0</td>\n",
       "      <td>0</td>\n",
       "      <td>0</td>\n",
       "      <td>0</td>\n",
       "      <td>0</td>\n",
       "    </tr>\n",
       "    <tr>\n",
       "      <th>Red</th>\n",
       "      <td>32</td>\n",
       "      <td>59</td>\n",
       "      <td>1</td>\n",
       "      <td>1</td>\n",
       "      <td>26</td>\n",
       "      <td>1</td>\n",
       "      <td>162</td>\n",
       "      <td>1</td>\n",
       "      <td>2</td>\n",
       "      <td>2</td>\n",
       "      <td>73</td>\n",
       "      <td>2</td>\n",
       "      <td>1</td>\n",
       "      <td>23</td>\n",
       "      <td>15</td>\n",
       "      <td>2</td>\n",
       "      <td>32</td>\n",
       "      <td>57</td>\n",
       "      <td>29</td>\n",
       "    </tr>\n",
       "    <tr>\n",
       "      <th>Rosé</th>\n",
       "      <td>1</td>\n",
       "      <td>1</td>\n",
       "      <td>0</td>\n",
       "      <td>0</td>\n",
       "      <td>1</td>\n",
       "      <td>2</td>\n",
       "      <td>49</td>\n",
       "      <td>0</td>\n",
       "      <td>0</td>\n",
       "      <td>0</td>\n",
       "      <td>12</td>\n",
       "      <td>0</td>\n",
       "      <td>0</td>\n",
       "      <td>4</td>\n",
       "      <td>2</td>\n",
       "      <td>0</td>\n",
       "      <td>3</td>\n",
       "      <td>4</td>\n",
       "      <td>1</td>\n",
       "    </tr>\n",
       "    <tr>\n",
       "      <th>White</th>\n",
       "      <td>5</td>\n",
       "      <td>27</td>\n",
       "      <td>8</td>\n",
       "      <td>0</td>\n",
       "      <td>17</td>\n",
       "      <td>5</td>\n",
       "      <td>162</td>\n",
       "      <td>1</td>\n",
       "      <td>7</td>\n",
       "      <td>3</td>\n",
       "      <td>37</td>\n",
       "      <td>0</td>\n",
       "      <td>0</td>\n",
       "      <td>61</td>\n",
       "      <td>11</td>\n",
       "      <td>0</td>\n",
       "      <td>35</td>\n",
       "      <td>15</td>\n",
       "      <td>15</td>\n",
       "    </tr>\n",
       "  </tbody>\n",
       "</table>\n",
       "</div>"
      ],
      "text/plain": [
       "country  Argentina  Australia  Austria  Bulgaria  Chile  England  France  \\\n",
       "type                                                                       \n",
       "Orange           0          0        1         0      1        0       0   \n",
       "Red             32         59        1         1     26        1     162   \n",
       "Rosé             1          1        0         0      1        2      49   \n",
       "White            5         27        8         0     17        5     162   \n",
       "\n",
       "country  Georgia  Germany  Greece  Italy  Lebanon  Moldova  New Zealand  \\\n",
       "type                                                                      \n",
       "Orange         0        0       0      0        0        0            0   \n",
       "Red            1        2       2     73        2        1           23   \n",
       "Rosé           0        0       0     12        0        0            4   \n",
       "White          1        7       3     37        0        0           61   \n",
       "\n",
       "country  Portugal  Romania  South Africa  Spain  USA  \n",
       "type                                                  \n",
       "Orange          0        0             0      0    0  \n",
       "Red            15        2            32     57   29  \n",
       "Rosé            2        0             3      4    1  \n",
       "White          11        0            35     15   15  "
      ]
     },
     "execution_count": 32,
     "metadata": {},
     "output_type": "execute_result"
    }
   ],
   "source": [
    "crosstab_result=pd.crosstab(df_cleaned[\"type\"], df_cleaned[\"country\"])\n",
    "crosstab_result"
   ]
  },
  {
   "cell_type": "markdown",
   "id": "a490d864-3fd9-4b89-8d1d-2f6bcd23743a",
   "metadata": {},
   "source": [
    "The stacked bar chart started repaeting the colours of the countries making it hard to analyze. \n",
    "Therefore i will create now a list of colours to ensure that each country has its own colour"
   ]
  },
  {
   "cell_type": "code",
   "execution_count": 58,
   "id": "211f969b-ab78-4e32-81c6-c772a2ce85d8",
   "metadata": {},
   "outputs": [],
   "source": [
    "colors = colors = sns.color_palette(\"tab20\", n_colors=19)"
   ]
  },
  {
   "cell_type": "code",
   "execution_count": 59,
   "id": "72d24949-d02c-422e-8152-7f9c963bd2d3",
   "metadata": {},
   "outputs": [
    {
     "data": {
      "image/png": "[encoded data removed]",
      "text/plain": [
       "<Figure size 800x800 with 1 Axes>"
      ]
     },
     "metadata": {},
     "output_type": "display_data"
    }
   ],
   "source": [
    "crosstab_result.plot(kind=\"bar\",stacked= True, figsize=(8, 8), color=colors)\n",
    "plt.title (\"Wine Type By Country\")\n",
    "plt.show()"
   ]
  },
  {
   "cell_type": "markdown",
   "id": "9b4bb2fc-f480-4398-b408-4651ecd527e6",
   "metadata": {},
   "source": [
    "In the Stacked Bar Chart I am comparing the contribution of each country to the four wine types.\n",
    "\n",
    "I could draw some conclusions:\n",
    "\n",
    "• France leads in wine production across all categories, with a major focus on red and white wines.\n",
    "\n",
    "• There is a clear imbalance in the global production of wine types, with red wine being the most dominant, followed by white wine.\n",
    "\n",
    "• Orange wine remains a niche category, with Austria and Chile being its primary producer."
   ]
  },
  {
   "cell_type": "markdown",
   "id": "87ba2ba1-33c3-410d-9ea0-46bf76fbb4eb",
   "metadata": {},
   "source": [
    "<h2 style=\"color: #800020;\"> Hypothesis Testing </h2>"
   ]
  },
  {
   "cell_type": "markdown",
   "id": "74e21d88-f7a0-4457-bc15-d0d5bc6febc5",
   "metadata": {},
   "source": [
    "<h4 style=\"color: #800020;\"> Chi-square test </h4>"
   ]
  },
  {
   "cell_type": "markdown",
   "id": "7fc0b2a3-45b3-4c79-ac3d-8a503793dca8",
   "metadata": {},
   "source": [
    "The hypothesis I am testing:\n",
    "\n",
    "Null Hypothesis (H₀): There is no relationship between country and the wine type.\n",
    "\n",
    "Alternative Hypothesis (H₁): There is a relationship between country and the wine type."
   ]
  },
  {
   "cell_type": "code",
   "execution_count": 35,
   "id": "163c431c-56ab-4778-9100-c70e0744ac1d",
   "metadata": {},
   "outputs": [],
   "source": [
    "from scipy.stats import chi2_contingency"
   ]
  },
  {
   "cell_type": "code",
   "execution_count": 36,
   "id": "e6b46d5a-fc8b-4132-b271-ef94cddbbe2e",
   "metadata": {},
   "outputs": [
    {
     "data": {
      "text/plain": [
       "9.868753664500571e-18"
      ]
     },
     "execution_count": 36,
     "metadata": {},
     "output_type": "execute_result"
    }
   ],
   "source": [
    "chi2_stats, chi2_pvalue, _, _= chi2_contingency(crosstab_result)\n",
    "chi2_pvalue"
   ]
  },
  {
   "cell_type": "markdown",
   "id": "f6b6923b-e8f0-44dd-b02a-da5262c4935f",
   "metadata": {},
   "source": [
    "By checking the chi-square result, there is strong evidence to conclude that there is a significant relationship between the country where the wine is produced and the type of wine. In other words, the country does have a direct influence on the wine type possibly due to factors such as climate, culture, or grape variety that influence the production of certain wine styles. In conclusion I reject the null hypothesis"
   ]
  },
  {
   "cell_type": "code",
   "execution_count": 37,
   "id": "ae79fbd7-c96d-421b-b9bc-5b91145c7c83",
   "metadata": {},
   "outputs": [],
   "source": [
    "from scipy.stats.contingency import association"
   ]
  },
  {
   "cell_type": "code",
   "execution_count": 38,
   "id": "fa21ed06-e1a1-457c-b4b0-2218c29c6baa",
   "metadata": {},
   "outputs": [
    {
     "data": {
      "text/plain": [
       "0.25304088235584726"
      ]
     },
     "execution_count": 38,
     "metadata": {},
     "output_type": "execute_result"
    }
   ],
   "source": [
    "association(crosstab_result, method=\"cramer\")"
   ]
  },
  {
   "cell_type": "markdown",
   "id": "e4ae6523-b20e-4f79-a73f-5e093a5c677b",
   "metadata": {},
   "source": [
    "While the chi-squared test shows a strong statistical significance between the 2 variables, the moderate association (Cramér's V = 0.253) implies that while the country has an influence on wine types, the strength of this influence is moderate, and there may be other contributing factors like regional preferences, production methods, or availability of grape varieties in those countries."
   ]
  },
  {
   "cell_type": "markdown",
   "id": "05df6bb9-a3f6-4f4b-aa77-b480005a5901",
   "metadata": {},
   "source": [
    "<h2 style=\"color: #800020;\"> Bonus- Price Vs Country Visualization </h2>"
   ]
  },
  {
   "cell_type": "code",
   "execution_count": 66,
   "id": "cf01b831-d85e-4723-882a-e2b5532a488d",
   "metadata": {},
   "outputs": [
    {
     "data": {
      "image/png": "[encoded data removed]",
      "text/plain": [
       "<Figure size 1800x600 with 1 Axes>"
      ]
     },
     "metadata": {},
     "output_type": "display_data"
    }
   ],
   "source": [
    "import seaborn as sns\n",
    "import matplotlib.pyplot as plt\n",
    "\n",
    "# Violin plot for Price vs Wine Type\n",
    "plt.figure(figsize=(18, 6))\n",
    "sns.violinplot(x='country', y='price', data=df_cleaned)\n",
    "plt.title('Violin Plot: Price Distribution by Wine Type')\n",
    "plt.xticks(rotation=45)\n",
    "plt.show()"
   ]
  },
  {
   "cell_type": "code",
   "execution_count": 69,
   "id": "6ecf0719-87e5-4714-9306-93aa95601a44",
   "metadata": {},
   "outputs": [
    {
     "data": {
      "image/png": "[encoded data removed]",
      "text/plain": [
       "<Figure size 1200x600 with 1 Axes>"
      ]
     },
     "metadata": {},
     "output_type": "display_data"
    }
   ],
   "source": [
    "avg_price = df_cleaned.groupby('country')['price'].mean().reset_index()\n",
    "\n",
    "plt.figure(figsize=(12, 6))\n",
    "sns.barplot(x='country', y='price', data=avg_price)\n",
    "plt.title('Bar Chart: Average Price by Country')\n",
    "plt.xticks(rotation=45)\n",
    "plt.show()"
   ]
  }
 ],
 "metadata": {
  "kernelspec": {
   "display_name": "Python 3 (ipykernel)",
   "language": "python",
   "name": "python3"
  },
  "language_info": {
   "codemirror_mode": {
    "name": "ipython",
    "version": 3
   },
   "file_extension": ".py",
   "mimetype": "text/x-python",
   "name": "python",
   "nbconvert_exporter": "python",
   "pygments_lexer": "ipython3",
   "version": "3.11.7"
  }
 },
 "nbformat": 4,
 "nbformat_minor": 5
}
